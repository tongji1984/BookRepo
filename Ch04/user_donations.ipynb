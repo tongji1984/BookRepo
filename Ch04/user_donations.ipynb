{
 "cells": [
  {
   "cell_type": "code",
   "execution_count": 1,
   "metadata": {},
   "outputs": [],
   "source": [
    "### code to generate the data set\n",
    "import pdb\n",
    "import numpy as np\n",
    "import pandas as pd\n",
    "from IPython import embed"
   ]
  },
  {
   "cell_type": "markdown",
   "metadata": {},
   "source": [
    "Example Code 115-116"
   ]
  },
  {
   "cell_type": "code",
   "execution_count": 2,
   "metadata": {},
   "outputs": [],
   "source": [
    "## membership status\n",
    "years      = ['2014', '2015', '2016', '2017', '2018']\n",
    "userStatus = ['bronze', 'silver', 'gold', 'inactive']\n",
    "\n",
    "# 1000 samples randomly generated from years(arrag type)\n",
    "userYears = np.random.choice(years, 1000, p = [0.1, 0.1, 0.15, 0.30, 0.35])\n",
    "\n",
    "# 1000 samples randomly generated from userStatus (array type)\n",
    "userStats = np.random.choice(userStatus, 1000, p = [0.5, 0.3, 0.1, 0.1])\n",
    "\n",
    "# combination by two array above (pandas dataframe)\n",
    "yearJoined = pd.DataFrame({'yearJoined': userYears,\n",
    "                           'userStats': userStats})\n"
   ]
  },
  {
   "cell_type": "markdown",
   "metadata": {},
   "source": [
    "Example Code 116 -117"
   ]
  },
  {
   "cell_type": "code",
   "execution_count": 3,
   "metadata": {},
   "outputs": [],
   "source": [
    "## email behavior\n",
    "NUM_EMAILS_SENT_WEEKLY = 3\n",
    "\n",
    "## types of behavior (never_opens, constant_open_rate, decressing or increasing_open_rate)\n",
    "def never_opens(period_rng):\n",
    "    return []\n",
    "\n",
    "def increasing_open_rate(period_rng):\n",
    "    return open_rate_with_factor_change(period_rng, np.random.uniform(1.01, 1.30))\n",
    "    \n",
    "def decreasing_open_rate(period_rng):\n",
    "    return open_rate_with_factor_change(period_rng, np.random.uniform(0.5, 0.99))\n",
    "\n",
    "def constant_open_rate(period_rng):\n",
    "    n, p = NUM_EMAILS_SENT_WEEKLY, np.random.uniform(0, 1)\n",
    "    num_opened = np.random.binomial(n, p, len(period_rng))\n",
    "    return num_opened\n",
    "\n",
    "def open_rate_with_factor_change(period_rng, fac):\n",
    "\n",
    "    if len(period_rng) < 1 :\n",
    "        return []\n",
    "    \n",
    "    times = np.random.randint(0, len(period_rng), int(0.1 * len(period_rng)))\n",
    "    try:\n",
    "        n, p = NUM_EMAILS_SENT_WEEKLY, np.random.uniform(0, 1)\n",
    "        num_opened = np.zeros(len(period_rng))\n",
    "        for pd in range(0, len(period_rng), 2):\n",
    "            # set num_opened every two weeks at some opening_rate        \n",
    "            num_opened[pd:(pd + 2)] = np.random.binomial(n, p, 2)\n",
    "            # change the opening_rate (positive and less than 1.00 )\n",
    "            p = max(min(1, p * fac), 0)\n",
    "    except:\n",
    "        num_opened[pd] = np.random.binomial(n, p, 1)\n",
    "    for t in times:\n",
    "        # 10% of days with zero number\n",
    "        num_opened[t] = 0\n",
    "    return num_opened"
   ]
  },
  {
   "cell_type": "markdown",
   "metadata": {},
   "source": [
    "Example Code 117-118"
   ]
  },
  {
   "cell_type": "code",
   "execution_count": 4,
   "metadata": {},
   "outputs": [],
   "source": [
    "## donation behavior\n",
    "def produce_donations(period_rng, user_behavior, num_emails, use_id, user_join_year):\n",
    "    donation_amounts = np.array([0, 25, 50, 75, 100, 250, 500, 1000, 1500, 2000])\n",
    "    user_has = np.random.choice(donation_amounts)\n",
    "    \n",
    "    # set esti_user_gives vy related parameters \n",
    "    user_gives = num_emails  / (NUM_EMAILS_SENT_WEEKLY * len(period_rng)) * user_has\n",
    "    # set index number of donation_amounts\n",
    "    user_gives_idx = np.where(user_gives >= donation_amounts)[0][-1]\n",
    "    # ensure index number is not to be least or most \n",
    "    user_gives_idx = max(min(user_gives_idx, len(donation_amounts) - 2), 1)\n",
    "    \n",
    "    # set the times of donation by the join_year (previous with more times)\n",
    "    num_times_gave = np.random.poisson(2) * (2018 - user_join_year)\n",
    "    \n",
    "    # set the weekindex for donation in the period\n",
    "    times = np.random.randint(0, len(period_rng), num_times_gave)\n",
    "\n",
    "    donations = pd.DataFrame({'user': [], 'amount': [], 'timestamp': []})\n",
    "    \n",
    "    for n in range(num_times_gave):\n",
    "        # change append() to pd.concat(), since append() is not supported.\n",
    "        # set user, amount, weekstamo for donations\n",
    "        donations = pd.concat([donations,pd.DataFrame({'user': [use_id],\n",
    "        'amount': [donation_amounts[user_gives_idx + np.random.binomial(1, .3)]], \n",
    "        'timestamp': [str(period_rng[times[n]].start_time + random_weekly_time_delta())]})])\n",
    "\n",
    "    if donations.shape[0] > 0:\n",
    "        donations = donations[donations.amount != 0]\n",
    "    return donations"
   ]
  },
  {
   "cell_type": "markdown",
   "metadata": {},
   "source": [
    "Example Code 118"
   ]
  },
  {
   "cell_type": "code",
   "execution_count": 5,
   "metadata": {},
   "outputs": [],
   "source": [
    "# set the donation time randomly (for instance:Timedelta('1 days 20:22:24'))\n",
    "def random_weekly_time_delta():\n",
    "    days_of_week = [d for d in range(7)]\n",
    "    hours_of_day = [h for h in range(11, 23)]\n",
    "    minute_of_hour = [m for m in range(60)]\n",
    "    second_of_minute = [s for s in range(60)]\n",
    "    return pd.Timedelta(str(np.random.choice(days_of_week))     + \" days\" )   + \\\n",
    "           pd.Timedelta(str(np.random.choice(hours_of_day))     + \" hours\" )  + \\\n",
    "           pd.Timedelta(str(np.random.choice(minute_of_hour))   + \" minutes\") + \\\n",
    "           pd.Timedelta(str(np.random.choice(second_of_minute)) + \" seconds\")"
   ]
  },
  {
   "cell_type": "markdown",
   "metadata": {},
   "source": [
    "Example Code 119"
   ]
  },
  {
   "cell_type": "code",
   "execution_count": 6,
   "metadata": {},
   "outputs": [
    {
     "name": "stderr",
     "output_type": "stream",
     "text": [
      "C:\\Users\\Administrator\\AppData\\Local\\Temp\\ipykernel_16172\\3966802417.py:34: DeprecationWarning: Conversion of an array with ndim > 0 to a scalar is deprecated, and will error in future. Ensure you extract a single element from your array before performing this operation. (Deprecated NumPy 1.25.)\n",
      "  num_opened[pd] = np.random.binomial(n, p, 1)\n"
     ]
    }
   ],
   "source": [
    "## run it\n",
    "behaviors = [never_opens, constant_open_rate, increasing_open_rate, decreasing_open_rate]\n",
    "user_behaviors = np.random.choice(behaviors, 1000, [0.2, 0.5, 0.1, 0.2])\n",
    "                                        \n",
    "rng = pd.period_range('2015-02-14', '2018-06-01', freq = 'W')\n",
    "emails = pd.DataFrame({'user': [], 'week': [], 'emailsOpened':[]})\n",
    "donations = pd.DataFrame({'user': [], 'amount': [], 'timestamp': []})\n",
    "\n",
    "for idx in range(yearJoined.shape[0]):\n",
    "    ## randomly generate the date when a user would have joined\n",
    "    join_date = pd.Timestamp(yearJoined.iloc[idx].yearJoined) + \\\n",
    "                pd.Timedelta(str(np.random.randint(0, 365)) + ' days')\n",
    "    join_date = min(join_date, pd.Timestamp('2018-06-01'))\n",
    "    \n",
    "    # user should not receive emails or make donations before joining\n",
    "    # thank you to Murray M Gillin for reporting errata and suggesting this correction\n",
    "    # rng.start_time indicates \"2018-02-19\" in \"2018-02-19/2018-02-25\"\n",
    "    user_rng = rng[rng.start_time > join_date]\n",
    "    \n",
    "    if len(user_rng) < 1:\n",
    "        continue\n",
    "    \n",
    "    # Generate behaviors randomly\n",
    "    # user_behaviors[idx] used the different function above (for instance, constant_open_rate(user_rng))\n",
    "    info = user_behaviors[idx](user_rng)\n",
    "\n",
    "    if len(info) == len(user_rng):\n",
    "        # set user_id, week_index, emails_Opened for email\n",
    "        emails = pd.concat([emails, pd.DataFrame({'user': [idx] * len(info), \n",
    "        'week': [str(r.start_time) for r in user_rng], 'emailsOpened': info})])\n",
    "\n",
    "    donations = pd.concat([donations,produce_donations(user_rng, user_behaviors[idx],\n",
    "    sum(info), idx, join_date.year)])"
   ]
  },
  {
   "cell_type": "code",
   "execution_count": 7,
   "metadata": {},
   "outputs": [
    {
     "data": {
      "text/html": [
       "<div>\n",
       "<style scoped>\n",
       "    .dataframe tbody tr th:only-of-type {\n",
       "        vertical-align: middle;\n",
       "    }\n",
       "\n",
       "    .dataframe tbody tr th {\n",
       "        vertical-align: top;\n",
       "    }\n",
       "\n",
       "    .dataframe thead th {\n",
       "        text-align: right;\n",
       "    }\n",
       "</style>\n",
       "<table border=\"1\" class=\"dataframe\">\n",
       "  <thead>\n",
       "    <tr style=\"text-align: right;\">\n",
       "      <th></th>\n",
       "      <th>user</th>\n",
       "      <th>week</th>\n",
       "      <th>emailsOpened</th>\n",
       "    </tr>\n",
       "  </thead>\n",
       "  <tbody>\n",
       "    <tr>\n",
       "      <th>0</th>\n",
       "      <td>2.0</td>\n",
       "      <td>2015-02-23 00:00:00</td>\n",
       "      <td>1.0</td>\n",
       "    </tr>\n",
       "    <tr>\n",
       "      <th>1</th>\n",
       "      <td>2.0</td>\n",
       "      <td>2015-03-02 00:00:00</td>\n",
       "      <td>0.0</td>\n",
       "    </tr>\n",
       "    <tr>\n",
       "      <th>2</th>\n",
       "      <td>2.0</td>\n",
       "      <td>2015-03-09 00:00:00</td>\n",
       "      <td>0.0</td>\n",
       "    </tr>\n",
       "    <tr>\n",
       "      <th>3</th>\n",
       "      <td>2.0</td>\n",
       "      <td>2015-03-16 00:00:00</td>\n",
       "      <td>0.0</td>\n",
       "    </tr>\n",
       "    <tr>\n",
       "      <th>4</th>\n",
       "      <td>2.0</td>\n",
       "      <td>2015-03-23 00:00:00</td>\n",
       "      <td>0.0</td>\n",
       "    </tr>\n",
       "    <tr>\n",
       "      <th>...</th>\n",
       "      <td>...</td>\n",
       "      <td>...</td>\n",
       "      <td>...</td>\n",
       "    </tr>\n",
       "    <tr>\n",
       "      <th>168</th>\n",
       "      <td>999.0</td>\n",
       "      <td>2018-04-30 00:00:00</td>\n",
       "      <td>3.0</td>\n",
       "    </tr>\n",
       "    <tr>\n",
       "      <th>169</th>\n",
       "      <td>999.0</td>\n",
       "      <td>2018-05-07 00:00:00</td>\n",
       "      <td>3.0</td>\n",
       "    </tr>\n",
       "    <tr>\n",
       "      <th>170</th>\n",
       "      <td>999.0</td>\n",
       "      <td>2018-05-14 00:00:00</td>\n",
       "      <td>3.0</td>\n",
       "    </tr>\n",
       "    <tr>\n",
       "      <th>171</th>\n",
       "      <td>999.0</td>\n",
       "      <td>2018-05-21 00:00:00</td>\n",
       "      <td>3.0</td>\n",
       "    </tr>\n",
       "    <tr>\n",
       "      <th>172</th>\n",
       "      <td>999.0</td>\n",
       "      <td>2018-05-28 00:00:00</td>\n",
       "      <td>3.0</td>\n",
       "    </tr>\n",
       "  </tbody>\n",
       "</table>\n",
       "<p>47054 rows × 3 columns</p>\n",
       "</div>"
      ],
      "text/plain": [
       "      user                 week  emailsOpened\n",
       "0      2.0  2015-02-23 00:00:00           1.0\n",
       "1      2.0  2015-03-02 00:00:00           0.0\n",
       "2      2.0  2015-03-09 00:00:00           0.0\n",
       "3      2.0  2015-03-16 00:00:00           0.0\n",
       "4      2.0  2015-03-23 00:00:00           0.0\n",
       "..     ...                  ...           ...\n",
       "168  999.0  2018-04-30 00:00:00           3.0\n",
       "169  999.0  2018-05-07 00:00:00           3.0\n",
       "170  999.0  2018-05-14 00:00:00           3.0\n",
       "171  999.0  2018-05-21 00:00:00           3.0\n",
       "172  999.0  2018-05-28 00:00:00           3.0\n",
       "\n",
       "[47054 rows x 3 columns]"
      ]
     },
     "execution_count": 7,
     "metadata": {},
     "output_type": "execute_result"
    }
   ],
   "source": [
    "emails"
   ]
  },
  {
   "cell_type": "code",
   "execution_count": 8,
   "metadata": {},
   "outputs": [
    {
     "data": {
      "text/html": [
       "<div>\n",
       "<style scoped>\n",
       "    .dataframe tbody tr th:only-of-type {\n",
       "        vertical-align: middle;\n",
       "    }\n",
       "\n",
       "    .dataframe tbody tr th {\n",
       "        vertical-align: top;\n",
       "    }\n",
       "\n",
       "    .dataframe thead th {\n",
       "        text-align: right;\n",
       "    }\n",
       "</style>\n",
       "<table border=\"1\" class=\"dataframe\">\n",
       "  <thead>\n",
       "    <tr style=\"text-align: right;\">\n",
       "      <th></th>\n",
       "      <th>user</th>\n",
       "      <th>amount</th>\n",
       "      <th>timestamp</th>\n",
       "    </tr>\n",
       "  </thead>\n",
       "  <tbody>\n",
       "    <tr>\n",
       "      <th>0</th>\n",
       "      <td>2.0</td>\n",
       "      <td>25.0</td>\n",
       "      <td>2015-11-27 19:27:44</td>\n",
       "    </tr>\n",
       "    <tr>\n",
       "      <th>0</th>\n",
       "      <td>2.0</td>\n",
       "      <td>25.0</td>\n",
       "      <td>2017-06-15 13:57:55</td>\n",
       "    </tr>\n",
       "    <tr>\n",
       "      <th>0</th>\n",
       "      <td>2.0</td>\n",
       "      <td>50.0</td>\n",
       "      <td>2018-04-09 11:11:00</td>\n",
       "    </tr>\n",
       "    <tr>\n",
       "      <th>0</th>\n",
       "      <td>2.0</td>\n",
       "      <td>25.0</td>\n",
       "      <td>2017-08-16 14:36:32</td>\n",
       "    </tr>\n",
       "    <tr>\n",
       "      <th>0</th>\n",
       "      <td>2.0</td>\n",
       "      <td>50.0</td>\n",
       "      <td>2016-11-11 22:08:02</td>\n",
       "    </tr>\n",
       "    <tr>\n",
       "      <th>...</th>\n",
       "      <td>...</td>\n",
       "      <td>...</td>\n",
       "      <td>...</td>\n",
       "    </tr>\n",
       "    <tr>\n",
       "      <th>0</th>\n",
       "      <td>999.0</td>\n",
       "      <td>1500.0</td>\n",
       "      <td>2018-05-15 19:43:12</td>\n",
       "    </tr>\n",
       "    <tr>\n",
       "      <th>0</th>\n",
       "      <td>999.0</td>\n",
       "      <td>1500.0</td>\n",
       "      <td>2015-08-04 12:54:43</td>\n",
       "    </tr>\n",
       "    <tr>\n",
       "      <th>0</th>\n",
       "      <td>999.0</td>\n",
       "      <td>2000.0</td>\n",
       "      <td>2016-03-16 17:48:30</td>\n",
       "    </tr>\n",
       "    <tr>\n",
       "      <th>0</th>\n",
       "      <td>999.0</td>\n",
       "      <td>2000.0</td>\n",
       "      <td>2015-05-02 11:50:27</td>\n",
       "    </tr>\n",
       "    <tr>\n",
       "      <th>0</th>\n",
       "      <td>999.0</td>\n",
       "      <td>2000.0</td>\n",
       "      <td>2016-04-13 14:16:18</td>\n",
       "    </tr>\n",
       "  </tbody>\n",
       "</table>\n",
       "<p>2545 rows × 3 columns</p>\n",
       "</div>"
      ],
      "text/plain": [
       "     user  amount            timestamp\n",
       "0     2.0    25.0  2015-11-27 19:27:44\n",
       "0     2.0    25.0  2017-06-15 13:57:55\n",
       "0     2.0    50.0  2018-04-09 11:11:00\n",
       "0     2.0    25.0  2017-08-16 14:36:32\n",
       "0     2.0    50.0  2016-11-11 22:08:02\n",
       "..    ...     ...                  ...\n",
       "0   999.0  1500.0  2018-05-15 19:43:12\n",
       "0   999.0  1500.0  2015-08-04 12:54:43\n",
       "0   999.0  2000.0  2016-03-16 17:48:30\n",
       "0   999.0  2000.0  2015-05-02 11:50:27\n",
       "0   999.0  2000.0  2016-04-13 14:16:18\n",
       "\n",
       "[2545 rows x 3 columns]"
      ]
     },
     "execution_count": 8,
     "metadata": {},
     "output_type": "execute_result"
    }
   ],
   "source": [
    "donations"
   ]
  },
  {
   "cell_type": "code",
   "execution_count": 9,
   "metadata": {},
   "outputs": [],
   "source": [
    "## get rid of zero donations and zero emails\n",
    "emails = emails[emails.emailsOpened != 0]\n",
    "yearJoined.index.name = 'user'\n",
    "\n",
    "# yearJoined.to_csv('data/year_joined.csv', index = False)\n",
    "# donations.to_csv( 'data/donations.csv',   index = False)\n",
    "# emails.to_csv('data/emails.csv',      index = False)"
   ]
  },
  {
   "cell_type": "markdown",
   "metadata": {},
   "source": [
    "Plot the donation amount in different months"
   ]
  },
  {
   "cell_type": "code",
   "execution_count": 13,
   "metadata": {},
   "outputs": [
    {
     "name": "stderr",
     "output_type": "stream",
     "text": [
      "C:\\Users\\Administrator\\AppData\\Local\\Temp\\ipykernel_14776\\3348237874.py:3: FutureWarning: 'M' is deprecated and will be removed in a future version, please use 'ME' instead.\n",
      "  donations.groupby(pd.Grouper(freq=\"M\")).amount.sum().plot()\n"
     ]
    },
    {
     "data": {
      "text/plain": [
       "<Axes: xlabel='timestamp'>"
      ]
     },
     "execution_count": 13,
     "metadata": {},
     "output_type": "execute_result"
    },
    {
     "data": {
      "image/png": "[encoded data removed]",
      "text/plain": [
       "<Figure size 640x480 with 1 Axes>"
      ]
     },
     "metadata": {},
     "output_type": "display_data"
    }
   ],
   "source": [
    "donations.set_index(pd.to_datetime(donations.timestamp), inplace = True)\n",
    "donations.sort_index(inplace = True)\n",
    "donations.groupby(pd.Grouper(freq=\"M\")).amount.sum().plot()"
   ]
  }
 ],
 "metadata": {
  "kernelspec": {
   "display_name": "Python 3",
   "language": "python",
   "name": "python3"
  },
  "language_info": {
   "codemirror_mode": {
    "name": "ipython",
    "version": 3
   },
   "file_extension": ".py",
   "mimetype": "text/x-python",
   "name": "python",
   "nbconvert_exporter": "python",
   "pygments_lexer": "ipython3",
   "version": "3.12.5"
  }
 },
 "nbformat": 4,
 "nbformat_minor": 2
}
